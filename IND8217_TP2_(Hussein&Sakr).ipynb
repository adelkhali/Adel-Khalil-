{
  "nbformat": 4,
  "nbformat_minor": 0,
  "metadata": {
    "colab": {
      "name": "Devoir #2.ipynb",
      "version": "0.3.2",
      "provenance": [],
      "collapsed_sections": []
    },
    "kernelspec": {
      "name": "python3",
      "display_name": "Python 3"
    }
  },
  "cells": [
    {
      "metadata": {
        "id": "YDqXJ64s5UWz",
        "colab_type": "code",
        "colab": {}
      },
      "cell_type": "code",
      "source": [
        "import numpy as np\n",
        "_lambda=122\n",
        "_k=1.5\n",
        "\n",
        "# define the F(t) function \n",
        "def F(t):\n",
        "  return 1-np.exp(-(t/_lambda)**_k)\n",
        "\n",
        "# define the R(t) function \n",
        "def R(t):\n",
        "  return 1-F(t)\n",
        "\n",
        "# define the density function \n",
        "def f(t):\n",
        "  return (_k*t**(_k-1)/_lambda**_k)*np.exp(-(t/_lambda)**_k)\n",
        "\n",
        "\n",
        "# define the integration function \n",
        "# integrate from 0 to tp\n",
        "# https://docs.scipy.org/doc/scipy/reference/tutorial/integrate.html\n",
        "from scipy import integrate \n",
        "\n",
        "def int_tp(tp):\n",
        "  return integrate.quad(lambda t: t*f(t), 0,tp)[0]\n"
      ],
      "execution_count": 0,
      "outputs": []
    },
    {
      "metadata": {
        "id": "2MnPDi0JYI9f",
        "colab_type": "code",
        "outputId": "7bd638b3-dbba-4db8-dac5-31155f949723",
        "colab": {
          "base_uri": "https://localhost:8080/",
          "height": 34
        }
      },
      "cell_type": "code",
      "source": [
        "int_tp(10)"
      ],
      "execution_count": 0,
      "outputs": [
        {
          "output_type": "execute_result",
          "data": {
            "text/plain": [
              "0.13875523344758317"
            ]
          },
          "metadata": {
            "tags": []
          },
          "execution_count": 132
        }
      ]
    },
    {
      "metadata": {
        "id": "XQV9t-iJC-jp",
        "colab_type": "code",
        "outputId": "e0ce2e28-75e9-4b87-d2a7-aea69641a991",
        "colab": {
          "base_uri": "https://localhost:8080/",
          "height": 34
        }
      },
      "cell_type": "code",
      "source": [
        "#define the gamma function calculation\n",
        "\n",
        "from math import gamma\n",
        "def E():\n",
        "   return _lambda*gamma(1+1/_k)\n",
        "\n",
        "E(),int_tp(1)\n"
      ],
      "execution_count": 0,
      "outputs": [
        {
          "output_type": "execute_result",
          "data": {
            "text/plain": [
              "(110.1349257400139, 0.0004450513048994152)"
            ]
          },
          "metadata": {
            "tags": []
          },
          "execution_count": 3
        }
      ]
    },
    {
      "metadata": {
        "id": "oJIzhMkiFYa6",
        "colab_type": "text"
      },
      "cell_type": "markdown",
      "source": [
        "#**A. Replacement at fixed age**\n",
        "\n"
      ]
    },
    {
      "metadata": {
        "id": "3ro9aTClg5nF",
        "colab_type": "text"
      },
      "cell_type": "markdown",
      "source": [
        "**1.\tMinimize the cost of operation**"
      ]
    },
    {
      "metadata": {
        "id": "w3-rgTsvE4cx",
        "colab_type": "code",
        "colab": {}
      },
      "cell_type": "code",
      "source": [
        "#Cp_a1=42*2*7+240 #cost of labor/h=42 & for two tech Tp=7h & cost of sparparts=2x120 \n",
        "#Cf_a1=60*2*7+240 #cost of labor/h=42+18 & for two tech Tp=7h & cost of sparparts=2x120 \n",
        "Cp_a1=42*4*3+240 #cost of labor/h=42 & for 4 tech Tp=3h & cost of sparparts=2x120 \n",
        "Cf_a1=60*4*3+240 #cost of labor/h=42+18 & for 4 tech Tp=3h & cost of sparparts=2x120\n",
        "#Minimizing costs – replacement at a fixed age  𝑡𝑝\n",
        "def C_fixedage(tp, Cp, Cf):\n",
        "  return (Cp*R(tp)+Cf*F(tp))/(tp*R(tp)+int_tp(tp))\n"
      ],
      "execution_count": 0,
      "outputs": []
    },
    {
      "metadata": {
        "id": "YB_3rWnVF1u5",
        "colab_type": "code",
        "outputId": "2f6f9c6b-2b99-469d-9537-5958cac61af5",
        "colab": {
          "base_uri": "https://localhost:8080/",
          "height": 176
        }
      },
      "cell_type": "code",
      "source": [
        "# define the minimzation function #https://docs.scipy.org/doc/scipy/reference/generated/scipy.optimize.minimize.html\n",
        "\n",
        "from scipy.optimize import minimize\n",
        "minimize(C_fixedage, [10], args=(Cp_a1,Cf_a1), method=\"SLSQP\", bounds=[(1,None)]) # the [10] is the initial guess, can be anything \n"
      ],
      "execution_count": 0,
      "outputs": [
        {
          "output_type": "execute_result",
          "data": {
            "text/plain": [
              "     fun: 8.716581924769832\n",
              "     jac: array([0.])\n",
              " message: 'Optimization terminated successfully.'\n",
              "    nfev: 81\n",
              "     nit: 27\n",
              "    njev: 27\n",
              "  status: 0\n",
              " success: True\n",
              "       x: array([691.65030684])"
            ]
          },
          "metadata": {
            "tags": []
          },
          "execution_count": 38
        }
      ]
    },
    {
      "metadata": {
        "id": "q3z4o1F3Hwq3",
        "colab_type": "text"
      },
      "cell_type": "markdown",
      "source": [
        ""
      ]
    },
    {
      "metadata": {
        "id": "KVGSuiz0grbL",
        "colab_type": "text"
      },
      "cell_type": "markdown",
      "source": [
        " **2. Minimizing downtime **\n"
      ]
    },
    {
      "metadata": {
        "id": "BviW8tsQgswh",
        "colab_type": "code",
        "colab": {}
      },
      "cell_type": "code",
      "source": [
        "#Cp_a2=42*4*3+240 #cost of labor/h=42 & forfour tech Tp=3h & cost of sparparts=2x120 \n",
        "#Cf_a2=60*4*3+240 #cost of labor/h=42+18 & for four tech Tp=3h & cost of sparparts=2x120 \n",
        "#Minimizing downtime – replacement at a fixed age\n",
        "Tp_a2=3/24  # DT due to preventive replacment for 4 tech in days\n",
        "Tf_a2=(3+4)/24   # DT due to Failure replacment for 4 tech in days\n",
        "def DT_fixedage(tp,Tp, Tf):\n",
        "  #Tp: stop time to make preventive replacment\n",
        "  return (Tp*R(tp)+Tf*F(tp))/((tp+Tp)*R(tp)+int_tp(tp))"
      ],
      "execution_count": 0,
      "outputs": []
    },
    {
      "metadata": {
        "id": "eu0oVMTfsi3e",
        "colab_type": "code",
        "outputId": "f4daab9e-80d0-43c5-9a7b-37db3627b719",
        "colab": {
          "base_uri": "https://localhost:8080/",
          "height": 176
        }
      },
      "cell_type": "code",
      "source": [
        "# define the minimzation function downtime\n",
        "from scipy.optimize import minimize\n",
        "minimize(DT_fixedage, [10], args=(Tp_a2,Tf_a2), method=\"SLSQP\", bounds=[(1,None)]) # the [10] is the initial guess, can be anything \n"
      ],
      "execution_count": 0,
      "outputs": [
        {
          "output_type": "execute_result",
          "data": {
            "text/plain": [
              "     fun: 0.0026288366506535083\n",
              "     jac: array([-7.31670298e-08])\n",
              " message: 'Optimization terminated successfully.'\n",
              "    nfev: 60\n",
              "     nit: 20\n",
              "    njev: 20\n",
              "  status: 0\n",
              " success: True\n",
              "       x: array([191.8956648])"
            ]
          },
          "metadata": {
            "tags": []
          },
          "execution_count": 44
        }
      ]
    },
    {
      "metadata": {
        "id": "OXGPRjfKsnRv",
        "colab_type": "text"
      },
      "cell_type": "markdown",
      "source": [
        "The optimal tp is 75.566 and the cost of preventive maintenance is $17.418/day  "
      ]
    },
    {
      "metadata": {
        "id": "AMR7uUzswsu9",
        "colab_type": "code",
        "outputId": "cc3691ee-2322-4f43-f214-82f53f2fcccf",
        "colab": {
          "base_uri": "https://localhost:8080/",
          "height": 34
        }
      },
      "cell_type": "code",
      "source": [
        "DT_fixedage(50,Tp_a2,Tf_a2)\n",
        "R(50)"
      ],
      "execution_count": 0,
      "outputs": [
        {
          "output_type": "execute_result",
          "data": {
            "text/plain": [
              "0.769225852990552"
            ]
          },
          "metadata": {
            "tags": []
          },
          "execution_count": 15
        }
      ]
    },
    {
      "metadata": {
        "id": "_OQbxx4BxhiV",
        "colab_type": "text"
      },
      "cell_type": "markdown",
      "source": [
        "\n",
        "\n",
        "# **B. Replacement at a fixed interval **\n"
      ]
    },
    {
      "metadata": {
        "id": "Lv9lvxxthK-k",
        "colab_type": "text"
      },
      "cell_type": "markdown",
      "source": [
        "**1.\tMinimize the cost of operation**"
      ]
    },
    {
      "metadata": {
        "id": "p1WvYCWuxkjj",
        "colab_type": "code",
        "colab": {}
      },
      "cell_type": "code",
      "source": [
        "Cp_b1=42*0.7*4*3+240 #cost of labor/h=42*0.7 & forfour tech Tp=3h & cost of sparparts=2x120    & labour cost is 70 %\n",
        "Cf_b1=60*0.7*4*3+240 #cost of labor/h=(42+18)*0.7 & for four tech Tp=3h & cost of sparparts=2x120 \n",
        "import numpy as np\n",
        "#Minimizing costs – replacement at a fixed interval \n",
        "def Lamda_b1(t):\n",
        "  return (t/462)**3.28\n",
        "\n",
        "def M(t):\n",
        "  return integrate.quad(lambda t: (t/462)**3.28, 0,t)[0]\n",
        "\n",
        "\n",
        "def C_fixinterval(tp, Cp_b1, Cf_b1):\n",
        "  return (Cp_b1+Cf_b1*M(tp))/(tp)\n"
      ],
      "execution_count": 0,
      "outputs": []
    },
    {
      "metadata": {
        "id": "eO-o-JQj05E0",
        "colab_type": "code",
        "outputId": "a404266e-6e94-4168-8920-b0bdced63e7a",
        "colab": {
          "base_uri": "https://localhost:8080/",
          "height": 34
        }
      },
      "cell_type": "code",
      "source": [
        "M(10)"
      ],
      "execution_count": 0,
      "outputs": [
        {
          "output_type": "execute_result",
          "data": {
            "text/plain": [
              "8.100849264401412e-06"
            ]
          },
          "metadata": {
            "tags": []
          },
          "execution_count": 141
        }
      ]
    },
    {
      "metadata": {
        "id": "bIBr6rgT0kyO",
        "colab_type": "code",
        "outputId": "bc04af62-6fbf-4aba-acf7-660913db8696",
        "colab": {
          "base_uri": "https://localhost:8080/",
          "height": 176
        }
      },
      "cell_type": "code",
      "source": [
        "# define the minimzation function downtime\n",
        "from scipy.optimize import minimize\n",
        "minimize(C_fixinterval, [10], args=(Cp_b1,Cf_b1), method=\"SLSQP\", bounds=[(1,None)]) # the [10] is the initial guess, can be anything \n"
      ],
      "execution_count": 0,
      "outputs": [
        {
          "output_type": "execute_result",
          "data": {
            "text/plain": [
              "     fun: 6.957708607238829\n",
              "     jac: array([-3.93390656e-06])\n",
              " message: 'Optimization terminated successfully.'\n",
              "    nfev: 36\n",
              "     nit: 12\n",
              "    njev: 12\n",
              "  status: 0\n",
              " success: True\n",
              "       x: array([111.17408087])"
            ]
          },
          "metadata": {
            "tags": []
          },
          "execution_count": 142
        }
      ]
    },
    {
      "metadata": {
        "id": "ZXZHRJLEx5AR",
        "colab_type": "text"
      },
      "cell_type": "markdown",
      "source": [
        " **2. Minimizing downtime **\n"
      ]
    },
    {
      "metadata": {
        "id": "xG4qlpJjx7X4",
        "colab_type": "code",
        "colab": {}
      },
      "cell_type": "code",
      "source": [
        "Tp_b2=3/24  # DT due to preventive replacment for 4 tech in days\n",
        "Tf_b2=(3+4)/24   # DT due to Failure replacment for 4 tech in days\n",
        "def DT_fixinterval(tp,Tp, Tf):\n",
        "  #Tp: stop time to make preventive replacment\n",
        "  return (Tf*M(tp)+Tp)/(tp+Tp)"
      ],
      "execution_count": 0,
      "outputs": []
    },
    {
      "metadata": {
        "id": "-s3AugX-3TxD",
        "colab_type": "code",
        "outputId": "866fd3f4-c672-4a4c-abed-effe3558b242",
        "colab": {
          "base_uri": "https://localhost:8080/",
          "height": 176
        }
      },
      "cell_type": "code",
      "source": [
        "# define the minimzation function downtime\n",
        "from scipy.optimize import minimize\n",
        "minimize(DT_fixinterval, [10], args=(Tp_b2,Tf_b2), method=\"SLSQP\", bounds=[(1,None)]) # the [10] is the initial guess, can be anythin"
      ],
      "execution_count": 0,
      "outputs": [
        {
          "output_type": "execute_result",
          "data": {
            "text/plain": [
              "     fun: 0.001693664877736447\n",
              "     jac: array([-8.11414793e-07])\n",
              " message: 'Optimization terminated successfully.'\n",
              "    nfev: 46\n",
              "     nit: 15\n",
              "    njev: 15\n",
              "  status: 0\n",
              " success: True\n",
              "       x: array([96.08902769])"
            ]
          },
          "metadata": {
            "tags": []
          },
          "execution_count": 146
        }
      ]
    },
    {
      "metadata": {
        "id": "8CfDXvAl6Zs9",
        "colab_type": "code",
        "colab": {}
      },
      "cell_type": "code",
      "source": [
        "# import the library required for making plot \n",
        "from matplotlib import pyplot as plt"
      ],
      "execution_count": 0,
      "outputs": []
    },
    {
      "metadata": {
        "id": "IUx11NPD6bhi",
        "colab_type": "code",
        "colab": {}
      },
      "cell_type": "code",
      "source": [
        "total_cost_fixedge=[]\n",
        "total_cost_fixinterval=[]\n",
        "DT_fixedge=[]\n",
        "DT_fixinterval=[]\n",
        "for tp in range (1,365):\n",
        "  total_cost_fixedge.append(C_fixedage(tp,Cp_a1,Cf_a1))\n",
        "  total_cost_fixinterval.append(C_fixinterval(tp, Cp_b1, Cf_b1))\n",
        "  DT_fixedge.append(DT_fixedage(tp,Tp_a2, Tf_a2))\n",
        "  DT_fixinterval.append((Tf_b2*M(tp)+Tp_b2)/(tp+Tp_b2))"
      ],
      "execution_count": 0,
      "outputs": []
    },
    {
      "metadata": {
        "id": "E4jSjnZzCjUf",
        "colab_type": "code",
        "outputId": "13d2854f-875e-42e0-c367-309db4c15458",
        "colab": {
          "base_uri": "https://localhost:8080/",
          "height": 364
        }
      },
      "cell_type": "code",
      "source": [
        "plt.plot(total_cost_fixedge)"
      ],
      "execution_count": 0,
      "outputs": [
        {
          "output_type": "execute_result",
          "data": {
            "text/plain": [
              "[<matplotlib.lines.Line2D at 0x7f0e0e854a20>]"
            ]
          },
          "metadata": {
            "tags": []
          },
          "execution_count": 70
        },
        {
          "output_type": "display_data",
          "data": {
            "image/png": "[encoded data removed]",
            "text/plain": [
              "<Figure size 576x396 with 1 Axes>"
            ]
          },
          "metadata": {
            "tags": []
          }
        }
      ]
    },
    {
      "metadata": {
        "id": "Dk6sNClxCeEq",
        "colab_type": "code",
        "outputId": "1d800dd4-bb0f-4046-bb68-bad573eb9e08",
        "colab": {
          "base_uri": "https://localhost:8080/",
          "height": 364
        }
      },
      "cell_type": "code",
      "source": [
        "plt.plot(total_cost_fixinterval)\n"
      ],
      "execution_count": 0,
      "outputs": [
        {
          "output_type": "execute_result",
          "data": {
            "text/plain": [
              "[<matplotlib.lines.Line2D at 0x7f0e0e6c17b8>]"
            ]
          },
          "metadata": {
            "tags": []
          },
          "execution_count": 148
        },
        {
          "output_type": "display_data",
          "data": {
            "image/png": "[encoded data removed]",
            "text/plain": [
              "<Figure size 576x396 with 1 Axes>"
            ]
          },
          "metadata": {
            "tags": []
          }
        }
      ]
    },
    {
      "metadata": {
        "id": "IbgRfsxUCffb",
        "colab_type": "code",
        "outputId": "3aafc738-60f8-44d6-841d-10183e149c58",
        "colab": {
          "base_uri": "https://localhost:8080/",
          "height": 364
        }
      },
      "cell_type": "code",
      "source": [
        "plt.plot(DT_fixedge)\n"
      ],
      "execution_count": 0,
      "outputs": [
        {
          "output_type": "execute_result",
          "data": {
            "text/plain": [
              "[<matplotlib.lines.Line2D at 0x7f0e0e794400>]"
            ]
          },
          "metadata": {
            "tags": []
          },
          "execution_count": 72
        },
        {
          "output_type": "display_data",
          "data": {
            "image/png": "[encoded data removed]",
            "text/plain": [
              "<Figure size 576x396 with 1 Axes>"
            ]
          },
          "metadata": {
            "tags": []
          }
        }
      ]
    },
    {
      "metadata": {
        "id": "drOKs7PpChFR",
        "colab_type": "code",
        "outputId": "a03b6ab5-d4a2-4bd3-8784-8d8155a11e62",
        "colab": {
          "base_uri": "https://localhost:8080/",
          "height": 364
        }
      },
      "cell_type": "code",
      "source": [
        "plt.plot(DT_fixinterval)"
      ],
      "execution_count": 0,
      "outputs": [
        {
          "output_type": "execute_result",
          "data": {
            "text/plain": [
              "[<matplotlib.lines.Line2D at 0x7f0e0e5bec18>]"
            ]
          },
          "metadata": {
            "tags": []
          },
          "execution_count": 149
        },
        {
          "output_type": "display_data",
          "data": {
            "image/png": "[encoded data removed]",
            "text/plain": [
              "<Figure size 576x396 with 1 Axes>"
            ]
          },
          "metadata": {
            "tags": []
          }
        }
      ]
    }
  ]
}